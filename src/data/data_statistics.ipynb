{
 "cells": [
  {
   "cell_type": "code",
   "execution_count": 2,
   "metadata": {},
   "outputs": [],
   "source": [
    "import os\n",
    "import pandas as pd"
   ]
  },
  {
   "cell_type": "code",
   "execution_count": 3,
   "metadata": {},
   "outputs": [],
   "source": [
    "csv_root = '/home/annahung/189nas/courses/AI/termProject/covid-cxr/data/processed'\n"
   ]
  },
  {
   "cell_type": "code",
   "execution_count": 4,
   "metadata": {},
   "outputs": [
    {
     "data": {
      "text/plain": [
       "COVID-19           28\n",
       "other_pneumonia     3\n",
       "Name: label_str, dtype: int64"
      ]
     },
     "execution_count": 4,
     "metadata": {},
     "output_type": "execute_result"
    }
   ],
   "source": [
    "test_csv = os.path.join(csv_root, 'test_set_no_rsna.csv')\n",
    "test_data = pd.read_csv(test_csv)\n",
    "test_finding = test_data['label_str']\n",
    "test_finding.value_counts()"
   ]
  },
  {
   "cell_type": "code",
   "execution_count": 5,
   "metadata": {},
   "outputs": [
    {
     "data": {
      "text/plain": [
       "COVID-19           224\n",
       "other_pneumonia     26\n",
       "Name: label_str, dtype: int64"
      ]
     },
     "execution_count": 5,
     "metadata": {},
     "output_type": "execute_result"
    }
   ],
   "source": [
    "train_csv = os.path.join(csv_root, 'train_set_no_rsna.csv')\n",
    "train_data = pd.read_csv(train_csv)\n",
    "train_finding = train_data['label_str']\n",
    "train_finding.value_counts()"
   ]
  },
  {
   "cell_type": "code",
   "execution_count": 6,
   "metadata": {},
   "outputs": [
    {
     "data": {
      "text/plain": [
       "COVID-19           22\n",
       "other_pneumonia     3\n",
       "Name: label_str, dtype: int64"
      ]
     },
     "execution_count": 6,
     "metadata": {},
     "output_type": "execute_result"
    }
   ],
   "source": [
    "val_csv = os.path.join(csv_root, 'val_set_no_rsna.csv')\n",
    "val_data = pd.read_csv(val_csv)\n",
    "val_finding = val_data['label_str']\n",
    "val_finding.value_counts()"
   ]
  },
  {
   "cell_type": "code",
   "execution_count": 13,
   "metadata": {},
   "outputs": [
    {
     "data": {
      "text/plain": [
       "32"
      ]
     },
     "execution_count": 13,
     "metadata": {},
     "output_type": "execute_result"
    }
   ],
   "source": [
    "other_pneumonia = test_finding.value_counts()['other_pneumonia'] + train_finding.value_counts()['other_pneumonia'] + val_finding.value_counts()['other_pneumonia']\n",
    "other_pneumonia"
   ]
  },
  {
   "cell_type": "code",
   "execution_count": 14,
   "metadata": {},
   "outputs": [
    {
     "data": {
      "text/plain": [
       "274"
      ]
     },
     "execution_count": 14,
     "metadata": {},
     "output_type": "execute_result"
    }
   ],
   "source": [
    "covid = test_finding.value_counts()['COVID-19'] + train_finding.value_counts()['COVID-19'] + val_finding.value_counts()['COVID-19']\n",
    "covid"
   ]
  },
  {
   "cell_type": "code",
   "execution_count": 10,
   "metadata": {},
   "outputs": [
    {
     "data": {
      "text/plain": [
       "274"
      ]
     },
     "execution_count": 10,
     "metadata": {},
     "output_type": "execute_result"
    }
   ],
   "source": []
  },
  {
   "cell_type": "code",
   "execution_count": 141,
   "metadata": {},
   "outputs": [
    {
     "data": {
      "text/plain": [
       "COVID-19           224\n",
       "other_pneumonia     26\n",
       "Name: label_str, dtype: int64"
      ]
     },
     "execution_count": 141,
     "metadata": {},
     "output_type": "execute_result"
    }
   ],
   "source": [
    "test_note_csv = os.path.join(csv_root, 'train_set_no_rsna.csv')\n",
    "test_note_data = pd.read_csv(test_note_csv)\n",
    "test_note_finding = test_note_data['label_str']\n",
    "test_note_finding.value_counts()"
   ]
  },
  {
   "cell_type": "code",
   "execution_count": 142,
   "metadata": {},
   "outputs": [],
   "source": [
    "test_note_data['notes'].fillna(\" \", inplace = True) \n",
    "test_note_data['clinical_notes'].fillna(\" \", inplace = True) \n",
    "test_note_data['clinical_notes'] = test_note_data['notes'].str.cat(test_note_data['clinical_notes'],sep=\" \")"
   ]
  },
  {
   "cell_type": "code",
   "execution_count": 143,
   "metadata": {},
   "outputs": [
    {
     "data": {
      "text/plain": [
       "11"
      ]
     },
     "execution_count": 143,
     "metadata": {},
     "output_type": "execute_result"
    }
   ],
   "source": [
    "(test_note_data['clinical_notes'] == '   ').sum()"
   ]
  },
  {
   "cell_type": "code",
   "execution_count": null,
   "metadata": {},
   "outputs": [],
   "source": [
    "covid = "
   ]
  }
 ],
 "metadata": {
  "kernelspec": {
   "display_name": "Python 3",
   "language": "python",
   "name": "python3"
  },
  "language_info": {
   "codemirror_mode": {
    "name": "ipython",
    "version": 3
   },
   "file_extension": ".py",
   "mimetype": "text/x-python",
   "name": "python",
   "nbconvert_exporter": "python",
   "pygments_lexer": "ipython3",
   "version": "3.6.10"
  }
 },
 "nbformat": 4,
 "nbformat_minor": 4
}
